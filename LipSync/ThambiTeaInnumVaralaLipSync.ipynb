{
  "nbformat": 4,
  "nbformat_minor": 0,
  "metadata": {
    "colab": {
      "name": "ThambiTeaInnumVaralaLipSync.ipynb",
      "private_outputs": true,
      "provenance": [],
      "collapsed_sections": [],
      "toc_visible": true,
      "machine_shape": "hm"
    },
    "kernelspec": {
      "name": "python3",
      "display_name": "Python 3"
    },
    "accelerator": "GPU"
  },
  "cells": [
    {
      "cell_type": "markdown",
      "metadata": {
        "id": "802K_fw2kLbV"
      },
      "source": [
        "# LipSync\n",
        "a hack by ThambiTeaInnumVarala"
      ]
    },
    {
      "cell_type": "code",
      "metadata": {
        "id": "P3LihClHbUd3"
      },
      "source": [
        "#@markdown 1. Choose an audio source:\n",
        "#@markdown <br> You can type in youtube audio sources https://www.youtube.com/watch?v=2rkQn-43ixs <br>\n",
        "#@markdown Or choose the 'Default' audio piece <br>\n",
        "#@markdown Or choose 'Own Source'\n",
        "audio = 'Default' #@param ['Default', 'Own Source'] {allow-input: true}\n",
        "#@markdown 2. Press play icon on the left after choosing\n",
        "\t\t\t\t\t\t\t\t\t\t\t\t\t\t\t\t   \n",
        "from google.colab import files\n",
        "%cd /content/sample_data\n",
        "\n",
        "if (audio == 'Own Source'):\n",
        "  print(\"Choose audio file\")\n",
        "  audio_file = files.upload()\n",
        "  audio = \"\"\n",
        "  for name in audio_file.keys():\n",
        "    audio = '/content/' + name \n",
        "  print(audio)\n",
        "\n",
        "print(\"Choose face photo\")\n",
        "images = files.upload()\n",
        "\n",
        "%tensorflow_version 1.x\n",
        "%cd /content\n",
        "\n",
        "!git clone --depth 1 https://github.com/balajimt/thambi-tea-innum-varala.git\n",
        "!mkdir /content/thambi-tea-innum-varala/LipSync/checkpoints/\n",
        "!mkdir /content/thambi-tea-innum-varala/LipSync/temp/\n",
        "\n",
        "import os\n",
        "model_path = \"/content/thambi-tea-innum-varala/LipSync/checkpoints/wav2lip_gan.pth\"\n",
        "print(model_path)\n",
        "if not os.path.exists(model_path):\n",
        "  !gdown https://drive.google.com/uc?id=1dwHujX7RVNCvdR1RR93z0FS2T2yzqup9 -O /content/thambi-tea-innum-varala/LipSync/checkpoints/wav2lip_gan.pth\n",
        "\t\t\t\t\t\t \n",
        "!wget --no-check-certificate -nc https://www.adrianbulat.com/downloads/python-fan/s3fd-619a316812.pth -O /content/thambi-tea-innum-varala/LipSync/face_detection/detection/sfd/s3fd.pth\n",
        "\n",
        "!pip install -U youtube-dl\n",
        "# Downloading default video\n",
        "!youtube-dl --extract-audio --audio-format mp3 https://www.youtube.com/watch?v=2rkQn-43ixs -o /content/default.mp3\n",
        "\n",
        "if 'youtube.com' in audio:\n",
        "  if os.path.exists('/content/custom.mp3'):\n",
        "    os.remove('/content/custom.mp3')\n",
        "  !youtube-dl --extract-audio --audio-format mp3 '$audio' -o /content/custom.mp3\n",
        "  audio = 'custom'\n",
        "\t\t\t\t\t\t\t\t\t\t\n",
        "\n",
        "if (not audio.endswith('.mp3')):\n",
        "  audio = '/content/'+audio.lower()+'.mp3'\n",
        "\n",
        "print(\"Using audio file\", audio)\n",
        "\n",
        "%cd /content/thambi-tea-innum-varala/LipSync/\n",
        "outputs = []\n",
        "for im in images:\n",
        "  infile = '/content/sample_data/'+im\n",
        "  outfile = '/content/'+im.rsplit('.')[0]+'_out.mp4'\n",
        "  !python inference.py --checkpoint_path checkpoints/wav2lip_gan.pth --face '$infile' --audio '$audio' --pads 0 20 0 0 --outfile \\\"'$outfile'\\\" 2>&1 | tee /content/out.txt\n",
        "  bad = !cat /content/out.txt | grep 'Face not detected'\n",
        "  if bad:\n",
        "    import cv2\n",
        "    print('\\nFace not detected - will use whole frame')\n",
        "    if infile.split('.')[1] in ['jpg', 'png', 'jpeg']:\n",
        "      frame = cv2.imread(infile)\n",
        "    else:\n",
        "      video_stream = cv2.VideoCapture(infile)\n",
        "      still_reading, frame = video_stream.read()\n",
        "    x1 = 0\n",
        "    h,x2 = frame.shape[:2]\n",
        "    if x2>h:\n",
        "      x1 = (x2-h)//2\n",
        "      x2 = x1+h\n",
        "    !python inference.py --checkpoint_path checkpoints/wav2lip_gan.pth --face '$infile' --audio '$audio' --box 0 $h $x1 $x2 --pads 0 20 0 0 --outfile \\\"'$outfile'\\\"\n",
        "  outputs.append(outfile)\n",
        "  os.remove(infile)\n",
        "\n",
        "from IPython.display import HTML, clear_output\n",
        "from base64 import b64encode\n",
        "\n",
        "clear_output()\n",
        "print(\"Inference successful. Generating video output....\")\n",
        "for file in outputs:\n",
        "  with open(file, 'rb') as f:\n",
        "    data_url = \"data:video/mp4;base64,\" + b64encode(f.read()).decode()\n",
        "  display(HTML(\"\"\"\n",
        "  <video width=600 controls loop>\n",
        "        <source src=\"%s\" type=\"video/mp4\">\n",
        "  </video>\"\"\" % data_url))\n"
      ],
      "execution_count": null,
      "outputs": []
    },
    {
      "cell_type": "code",
      "metadata": {
        "id": "FMRFpB6Fc4ed"
      },
      "source": [
        ""
      ],
      "execution_count": null,
      "outputs": []
    }
  ]
}